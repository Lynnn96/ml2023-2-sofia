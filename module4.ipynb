{
 "cells": [
  {
   "cell_type": "code",
   "execution_count": 3,
   "metadata": {},
   "outputs": [
    {
     "name": "stdout",
     "output_type": "stream",
     "text": [
      "Enter the number of values (N): 4\n",
      "Enter number 1: 1\n",
      "Enter number 2: 2\n",
      "Enter number 3: 3\n",
      "Enter number 4: 4\n",
      "Enter the number to search for (X): 3\n",
      "The index of 3 is 3\n"
     ]
    }
   ],
   "source": [
    "# Step 1: Ask the user for input N\n",
    "N = int(input(\"Enter the number of values (N): \"))\n",
    "\n",
    "# Step 2: Initialize a list to store N numbers\n",
    "numbers = []\n",
    "\n",
    "# Step 3: Read N numbers from the user one by one\n",
    "for i in range(N):\n",
    "    num = int(input(f\"Enter number {i + 1}: \"))\n",
    "    numbers.append(num)\n",
    "\n",
    "# Step 4: Ask the user for input X\n",
    "X = int(input(\"Enter the number to search for (X): \"))\n",
    "\n",
    "# Step 5: Search for X in the list of numbers\n",
    "if X in numbers:\n",
    "    index = numbers.index(X) + 1  # Adding 1 to convert from 0-based index to 1-based index\n",
    "    print(f\"The index of {X} is {index}\")\n",
    "else:\n",
    "    print(\"-1\")\n"
   ]
  },
  {
   "cell_type": "code",
   "execution_count": null,
   "metadata": {},
   "outputs": [],
   "source": []
  }
 ],
 "metadata": {
  "kernelspec": {
   "display_name": "Python 3",
   "language": "python",
   "name": "python3"
  },
  "language_info": {
   "codemirror_mode": {
    "name": "ipython",
    "version": 3
   },
   "file_extension": ".py",
   "mimetype": "text/x-python",
   "name": "python",
   "nbconvert_exporter": "python",
   "pygments_lexer": "ipython3",
   "version": "3.7.6"
  }
 },
 "nbformat": 4,
 "nbformat_minor": 4
}
